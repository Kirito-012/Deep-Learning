{
 "cells": [
  {
   "cell_type": "code",
   "execution_count": 2,
   "metadata": {},
   "outputs": [],
   "source": [
    "import torch\n",
    "import torch.nn as nn\n",
    "import torch.nn.functional as F\n",
    "from torch.optim import Adam\n",
    "\n",
    "import lightning as L\n",
    "from torch.utils.data import DataLoader, TensorDataset\n"
   ]
  },
  {
   "cell_type": "code",
   "execution_count": 45,
   "metadata": {},
   "outputs": [],
   "source": [
    "class LSTMTrain(L.LightningModule):\n",
    "    def __init__(self):\n",
    "        super().__init__()\n",
    "\n",
    "        self.lstm = nn.LSTM(input_size=1, hidden_size=1)\n",
    "    \n",
    "    def forward(self, input):\n",
    "        input_trans = input.transpose(0,1)\n",
    "        input_trans = input_trans.unsqueeze(-1)\n",
    "\n",
    "        lstm_out, temp = self.lstm(input_trans)\n",
    "        prediction = lstm_out[-1]\n",
    "        return prediction.squeeze()\n",
    "    \n",
    "    def configure_optimizers(self):\n",
    "        return Adam(self.parameters(), lr=0.1)\n",
    "    \n",
    "    def training_step(self, batch, batch_idx):\n",
    "        input_i, label_i = batch\n",
    "        output_i = self.forward(input_i)\n",
    "        label_i = label_i.squeeze()   \n",
    "        loss = F.mse_loss(output_i, label_i)\n",
    "        self.log('train_loss', loss)\n",
    "\n",
    "        if label_i.item() == 0:\n",
    "            self.log('out_0', output_i)\n",
    "        else:\n",
    "            self.log('out_1', output_i)\n",
    "            \n",
    "        return loss"
   ]
  },
  {
   "cell_type": "code",
   "execution_count": 46,
   "metadata": {},
   "outputs": [
    {
     "name": "stdout",
     "output_type": "stream",
     "text": [
      "Let's compare the observed and predicted values: \n",
      "Company A: Observed = 0, Predicted = -0.44594836235046387\n",
      "Company B: Observed = 1, Predicted = -0.4488987326622009\n"
     ]
    }
   ],
   "source": [
    "model = LSTMTrain()\n",
    "print(\"Let's compare the observed and predicted values: \")\n",
    "print(\"Company A: Observed = 0, Predicted =\", model(torch.tensor([[0., 0.5, 0.25, 1.]])).detach().item())\n",
    "print(\"Company B: Observed = 1, Predicted =\", model(torch.tensor([[1., 0.5, 0.25, 1.]])).detach().item())"
   ]
  },
  {
   "cell_type": "code",
   "execution_count": 49,
   "metadata": {},
   "outputs": [
    {
     "name": "stderr",
     "output_type": "stream",
     "text": [
      "GPU available: False, used: False\n",
      "TPU available: False, using: 0 TPU cores\n",
      "HPU available: False, using: 0 HPUs\n",
      "\n",
      "  | Name | Type | Params | Mode \n",
      "--------------------------------------\n",
      "0 | lstm | LSTM | 16     | train\n",
      "--------------------------------------\n",
      "16        Trainable params\n",
      "0         Non-trainable params\n",
      "16        Total params\n",
      "0.000     Total estimated model params size (MB)\n",
      "1         Modules in train mode\n",
      "0         Modules in eval mode\n"
     ]
    },
    {
     "name": "stdout",
     "output_type": "stream",
     "text": [
      "Epoch 249: 100%|██████████| 2/2 [00:00<00:00, 97.13it/s, v_num=1] "
     ]
    },
    {
     "name": "stderr",
     "output_type": "stream",
     "text": [
      "`Trainer.fit` stopped: `max_epochs=250` reached.\n"
     ]
    },
    {
     "name": "stdout",
     "output_type": "stream",
     "text": [
      "Epoch 249: 100%|██████████| 2/2 [00:00<00:00, 81.29it/s, v_num=1]\n"
     ]
    }
   ],
   "source": [
    "model = LSTMTrain()\n",
    "inputs = torch.tensor([[0., 0.5, 0.25, 1.], [1., 0.5, 0.25, 1]])\n",
    "labels = torch.tensor([0.0, 1.0])\n",
    "\n",
    "dataset = TensorDataset(inputs, labels)\n",
    "dataloader = DataLoader(dataset)\n",
    "\n",
    "trainer = L.Trainer(max_epochs=250, log_every_n_steps=2)\n",
    "trainer.fit(model, train_dataloaders=dataloader)"
   ]
  },
  {
   "cell_type": "code",
   "execution_count": 54,
   "metadata": {},
   "outputs": [
    {
     "name": "stdout",
     "output_type": "stream",
     "text": [
      "Let's compare the observed and predicted values: \n",
      "Company A: Observed = 0, Predicted = 0.0\n",
      "Company B: Observed = 1, Predicted = 0.9836\n"
     ]
    }
   ],
   "source": [
    "print(\"Let's compare the observed and predicted values: \")\n",
    "print(\"Company A: Observed = 0, Predicted =\", round(model(torch.tensor([[0., 0.5, 0.25, 1.]])).detach().item(), 4))\n",
    "print(\"Company B: Observed = 1, Predicted =\", round(model(torch.tensor([[1., 0.5, 0.25, 1.]])).detach().item(), 4))"
   ]
  },
  {
   "cell_type": "code",
   "execution_count": null,
   "metadata": {},
   "outputs": [],
   "source": []
  }
 ],
 "metadata": {
  "kernelspec": {
   "display_name": "Python 3",
   "language": "python",
   "name": "python3"
  },
  "language_info": {
   "codemirror_mode": {
    "name": "ipython",
    "version": 3
   },
   "file_extension": ".py",
   "mimetype": "text/x-python",
   "name": "python",
   "nbconvert_exporter": "python",
   "pygments_lexer": "ipython3",
   "version": "3.10.0"
  }
 },
 "nbformat": 4,
 "nbformat_minor": 2
}
