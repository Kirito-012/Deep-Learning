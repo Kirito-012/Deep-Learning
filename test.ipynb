{
 "cells": [
  {
   "cell_type": "code",
   "execution_count": 2,
   "metadata": {},
   "outputs": [],
   "source": [
    "import torch\n",
    "import torch.nn as nn\n",
    "import torch.nn.functional as F\n",
    "from torch.optim import Adam\n",
    "\n",
    "import lightning as L\n",
    "from torch.utils.data import TensorDataset, DataLoader"
   ]
  },
  {
   "cell_type": "code",
   "execution_count": 3,
   "metadata": {},
   "outputs": [],
   "source": [
    "token_to_id = {\n",
    "    'what':0,\n",
    "    'is':1,\n",
    "    'StatQuest':2,\n",
    "    'Awesome':3,\n",
    "    '<EOS>':4,\n",
    "}\n",
    "\n",
    "id_to_token = dict(map(reversed, token_to_id.items()))\n",
    "\n",
    "inputs = torch.tensor([\n",
    "    [\n",
    "        token_to_id['what'],\n",
    "        token_to_id['is'],\n",
    "        token_to_id['StatQuest'],\n",
    "        token_to_id['<EOS>'],\n",
    "    ],\n",
    "    [\n",
    "        token_to_id['StatQuest'],\n",
    "        token_to_id['is'],\n",
    "        token_to_id['what'],\n",
    "        token_to_id['<EOS>'],\n",
    "    ]\n",
    "])\n",
    "\n",
    "outputs = torch.tensor([\n",
    "    [\n",
    "        token_to_id['is'],\n",
    "        token_to_id['StatQuest'],\n",
    "        token_to_id['<EOS>'],\n",
    "        token_to_id['Awesome'],\n",
    "        token_to_id['<EOS>'],\n",
    "    ],\n",
    "    [\n",
    "        token_to_id['is'],\n",
    "        token_to_id['what'],\n",
    "        token_to_id['<EOS>'],\n",
    "        token_to_id['Awesome'],\n",
    "        token_to_id['<EOS>'],\n",
    "    ]\n",
    "])\n",
    "\n",
    "dataset = TensorDataset(inputs, outputs)\n",
    "dataloader = DataLoader(dataset)"
   ]
  },
  {
   "cell_type": "code",
   "execution_count": 29,
   "metadata": {},
   "outputs": [],
   "source": [
    "class PositionalEncoding(nn.Module):\n",
    "    def __init__(self, max_len=6, d_model=2):\n",
    "        super().__init__()\n",
    "\n",
    "        pe = torch.zeros(max_len, d_model)\n",
    "\n",
    "        position = torch.arange(0, max_len, 1).float().unsqueeze(1)\n",
    "        embedding = torch.arange(0, d_model, 1).float()\n",
    "\n",
    "        div_term = 1/torch.tensor(1000) ** (embedding * d_model)\n",
    "        \n",
    "        pe[:, ::2] = torch.sin(position/div_term) \n",
    "        pe[:, 1::2] = torch.cos(position/div_term) \n",
    "        self.register_buffer('pe', pe)\n",
    "\n",
    "    def forward(self, word_embeddings):\n",
    "        return word_embeddings + self.pe[:word_embeddings.size(0), :]\n",
    "    "
   ]
  },
  {
   "cell_type": "markdown",
   "metadata": {},
   "source": [
    "Attention (Q, K, V) = SoftMax ((Q.K^T)/sqrt(d_k) + M) V"
   ]
  },
  {
   "cell_type": "code",
   "execution_count": 36,
   "metadata": {},
   "outputs": [],
   "source": [
    "class Attention(nn.Module):\n",
    "    def __init__(self, d_model=2):\n",
    "        super().__init__()\n",
    "\n",
    "        self.W_q = nn.Linear(in_features=d_model, out_features=d_model, bias=False)\n",
    "        self.W_k = nn.Linear(in_features=d_model, out_features=d_model, bias=False)\n",
    "        self.W_v = nn.Linear(in_features=d_model, out_features=d_model, bias=False)\n",
    "\n",
    "        self.row_dim = 0\n",
    "        self.col_dim = 1\n",
    "\n",
    "    def forward(self, encodings_for_q, encodings_for_k, encodings_for_v, mask=None):\n",
    "        q = self.W_q(encodings_for_q)\n",
    "        k = self.W_k(encodings_for_k)\n",
    "        v = self.W_v(encodings_for_v)\n",
    "\n",
    "        sims = torch.matmul(q, k.transpose())\n",
    "        scaled_sims = sims/torch.tensor(k.size(self.col_dim) ** 0.5)\n",
    "\n",
    "        if mask is not None:\n",
    "            scaled_sims = scaled_sims.masked_fill(mask=mask, value=-1e9)\n",
    "        \n",
    "        attention_values = F.softmax(scaled_sims, dim=self.col_dim)\n",
    "        attention_score = torch.matmul(attention_values, v)\n",
    "        \n",
    "        return attention_score\n",
    "\n"
   ]
  },
  {
   "cell_type": "code",
   "execution_count": 41,
   "metadata": {},
   "outputs": [],
   "source": [
    "class DecoderOnlyTransformer(L.LightningModule):\n",
    "    def __init__(self, seq_len = 4, max_len=6, d_model=2):\n",
    "        super().__init__()\n",
    "\n",
    "        self.we = nn.Embedding(num_embeddings=seq_len, embedding_dim=d_model)\n",
    "        self.pe = PositionalEncoding(max_len=max_len, d_model=d_model)\n",
    "        self.self_attention = Attention(d_model=d_model)\n",
    "        self.fc_layer = nn.Linear(in_features=d_model, out_features=seq_len)\n",
    "        self.loss = nn.CrossEntropyLoss()\n",
    "\n",
    "    def forward(self, token_ids):\n",
    "        word_embeddings = self.we(token_ids)\n",
    "        positional_encoding = self.pe(word_embeddings)\n",
    "\n",
    "        mask = torch.tril(torch.ones(token_ids.size(dim=0), token_ids.size(dim=0)))\n",
    "        mask = mask == 0\n",
    "\n",
    "        self_attention_values = self.self_attention(positional_encoding, positional_encoding, positional_encoding, mask=mask)\n",
    "        residual_connections = self_attention_values + positional_encoding\n",
    "        fc_ouput_layer =  self.fc_layer(residual_connections)\n",
    "        return fc_ouput_layer\n",
    "    \n",
    "    def configure_optimizers(self):\n",
    "        return Adam(self.parameters(), lr=0.1)\n",
    "\n",
    "    def training_step(self, batch):\n",
    "        input_tokens, labels = batch\n",
    "        output = self.forward(input_tokens[0])\n",
    "        loss = self.loss(output, labels[0])\n",
    "        return loss"
   ]
  },
  {
   "cell_type": "code",
   "execution_count": null,
   "metadata": {},
   "outputs": [],
   "source": [
    "model = DecoderOnlyTransformer()\n",
    "model_input = torch.tensor([\n",
    "    token_to_id['what'],\n",
    "    token_to_id['is'],\n",
    "    token_to_id['StatQuest'],\n",
    "    token_to_id['<EOS'],\n",
    "])\n",
    "\n",
    "input_length = model_input.size(0)\n",
    "predictions = model(model_input)\n",
    "predicted_id = "
   ]
  },
  {
   "cell_type": "code",
   "execution_count": null,
   "metadata": {},
   "outputs": [],
   "source": []
  },
  {
   "cell_type": "code",
   "execution_count": null,
   "metadata": {},
   "outputs": [
    {
     "name": "stdout",
     "output_type": "stream",
     "text": [
      "Positional Encoding returning: \n",
      " tensor([[ 0.0000,  1.0000],\n",
      "        [ 0.8415,  0.5403],\n",
      "        [ 0.9093, -0.4161],\n",
      "        [ 0.1411, -0.9900],\n",
      "        [-0.7568, -0.6536],\n",
      "        [-0.9589,  0.2837]])\n",
      "4\n"
     ]
    }
   ],
   "source": [
    "max_len = 6\n",
    "d_model=2\n",
    "\n",
    "pe = torch.zeros(6, 2)\n",
    "position = torch.arange(0, max_len, 1).float().unsqueeze(1)\n",
    "embedding = torch.arange(0, d_model, 1).float()\n",
    "div_term = 1/torch.tensor(1000) ** (embedding * d_model)\n",
    "pe[:,::2] = torch.sin(position*div_term[0]) \n",
    "pe[:, 1::2] = torch.cos(position*div_term[0])\n",
    "print(\"Positional Encoding returning: \\n\", pe)\n",
    "pe.size(0)\n",
    "pe.size()\n",
    "\n",
    "mask = torch.ones(5,5)\n",
    "mask\n",
    "token_to_id = {\n",
    "    'what':0,\n",
    "    'is':1,\n",
    "    'StatQuest':2,\n",
    "    'Awesome':3,\n",
    "    '<EOS>':4,\n",
    "}\n",
    "model_input = torch.tensor([\n",
    "    token_to_id['what'],\n",
    "    token_to_id['is'],\n",
    "    token_to_id['StatQuest'],\n",
    "    token_to_id['<EOS>'],\n",
    "])\n",
    "\n",
    "input_length = model_input.size(0)\n",
    "print(input_length)"
   ]
  },
  {
   "cell_type": "code",
   "execution_count": 49,
   "metadata": {},
   "outputs": [
    {
     "name": "stdout",
     "output_type": "stream",
     "text": [
      "4\n",
      "5\n",
      "6\n",
      "7\n",
      "8\n",
      "9\n"
     ]
    }
   ],
   "source": [
    "for i in range(4,10):\n",
    "    print(i)"
   ]
  },
  {
   "cell_type": "code",
   "execution_count": null,
   "metadata": {},
   "outputs": [],
   "source": []
  }
 ],
 "metadata": {
  "kernelspec": {
   "display_name": "Python 3",
   "language": "python",
   "name": "python3"
  },
  "language_info": {
   "codemirror_mode": {
    "name": "ipython",
    "version": 3
   },
   "file_extension": ".py",
   "mimetype": "text/x-python",
   "name": "python",
   "nbconvert_exporter": "python",
   "pygments_lexer": "ipython3",
   "version": "3.10.0"
  }
 },
 "nbformat": 4,
 "nbformat_minor": 2
}
