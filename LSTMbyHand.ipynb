{
 "cells": [
  {
   "cell_type": "code",
   "execution_count": 1,
   "metadata": {},
   "outputs": [],
   "source": [
    "import torch\n",
    "import torch.nn as nn\n",
    "import torch.nn.functional as F\n",
    "from torch.optim import Adam\n",
    "\n",
    "import lightning as L\n",
    "from torch.utils.data import DataLoader, TensorDataset"
   ]
  },
  {
   "cell_type": "code",
   "execution_count": 2,
   "metadata": {},
   "outputs": [],
   "source": [
    "class LSTMbyHand(L.LightningModule):\n",
    "\n",
    "    # create and intialize weights and biases\n",
    "    def __init__(self):\n",
    "        super().__init__()\n",
    "\n",
    "        # initializing the normal distribution for the values to be randomly picked\n",
    "        mean = torch.tensor(0.0)\n",
    "        std = torch.tensor(1.0)\n",
    "\n",
    "        # assings a random value to the parameter from the noraml distribution defined above\n",
    "        self.wlr1 = nn.Parameter(torch.normal(mean=mean, std=std), requires_grad=True)\n",
    "        self.wlr2 = nn.Parameter(torch.normal(mean=mean, std=std), requires_grad=True)\n",
    "        self.blr1 = nn.Parameter(torch.tensor(0.), requires_grad=True)\n",
    "\n",
    "        self.wpr1 = nn.Parameter(torch.normal(mean=mean, std=std), requires_grad=True)\n",
    "        self.wpr2 = nn.Parameter(torch.normal(mean=mean, std=std), requires_grad=True)\n",
    "        self.bpr1 = nn.Parameter(torch.tensor(0.), requires_grad=True)\n",
    "\n",
    "        self.wp1 = nn.Parameter(torch.normal(mean=mean, std=std), requires_grad=True)\n",
    "        self.wp2 = nn.Parameter(torch.normal(mean=mean, std=std), requires_grad=True)\n",
    "        self.bp1 = nn.Parameter(torch.tensor(0.), requires_grad=True)\n",
    "\n",
    "        self.wo1 = nn.Parameter(torch.normal(mean=mean, std=std), requires_grad=True)\n",
    "        self.wo2 = nn.Parameter(torch.normal(mean=mean, std=std), requires_grad=True)\n",
    "        self.bo1 = nn.Parameter(torch.tensor(0.), requires_grad=True)\n",
    "\n",
    "    # Do the LSTM math\n",
    "    def lstm_unit(self, input_value, long_memory, short_memory):\n",
    "        long_remember_percent = torch.sigmoid((short_memory * self.wlr1 + input_value * self.wlr2) + self.blr1)\n",
    "\n",
    "        potential_remember_percent = torch.sigmoid((short_memory * self.wpr1 + input_value * self.wpr2) + self.bpr1)\n",
    "        potential_memory = torch.tanh((short_memory * self.wp1 + input_value * self.wp2) + self.bp1)\n",
    "\n",
    "        update_long_memory = ((long_memory * long_remember_percent) + (potential_memory * potential_remember_percent))\n",
    "\n",
    "        output_percent = torch.sigmoid((short_memory * self.wo1 + input_value * self.wo2) + self.bo1)\n",
    "        update_short_memory = torch.tanh(update_long_memory) * output_percent\n",
    "\n",
    "        return ([update_long_memory, update_short_memory])\n",
    "    \n",
    "    # make a forward pass through unrolled LSTM\n",
    "    def forward(self, input):\n",
    "        batch_size = input.size(0)\n",
    "        long_memory = torch.zeros(batch_size)\n",
    "        short_memory = torch.zeros(batch_size)\n",
    "\n",
    "        for i in range(input.size(1)):\n",
    "            long_memory, short_memory = self.lstm_unit(input[:, i], long_memory, short_memory)\n",
    "\n",
    "        return short_memory\n",
    "\n",
    "    def configure_optimizers(self):\n",
    "        return Adam(self.parameters())\n",
    "    \n",
    "    # calculating loss and log training progress\n",
    "    def training_step(self, batch, batch_idx):\n",
    "        input_i, label_i = batch\n",
    "        output_i = self.forward(input_i)\n",
    "        loss = F.mse_loss(output_i, label_i)\n",
    "        \n",
    "        # logging the train_loss for later observation\n",
    "        self.log('train_loss', loss)\n",
    "\n",
    "        # keeping tracks of Company A (0), and Company B (else)\n",
    "        if label_i.item() == 0:\n",
    "            self.log('out_0', output_i)\n",
    "        else:\n",
    "            self.log('out_1', output_i)\n",
    "\n",
    "        return loss"
   ]
  },
  {
   "cell_type": "code",
   "execution_count": 3,
   "metadata": {},
   "outputs": [
    {
     "name": "stdout",
     "output_type": "stream",
     "text": [
      "Let's compare the observed and predicted values: \n",
      "Company A: Observed = 0, Predicted = 0.16313424706459045\n",
      "Company B: Observed = 1, Predicted = 0.16874220967292786\n"
     ]
    }
   ],
   "source": [
    "model = LSTMbyHand()\n",
    "print(\"Let's compare the observed and predicted values: \")\n",
    "print(\"Company A: Observed = 0, Predicted =\", model(torch.tensor([[0., 0.5, 0.25, 1.]])).detach().item())\n",
    "print(\"Company B: Observed = 1, Predicted =\", model(torch.tensor([[1., 0.5, 0.25, 1.]])).detach().item())\n",
    "# print(\"Company A: Observed = 0, Predicted =\", model(torch.tensor([0., 0.5, 0.25, 1.])).detach())\n",
    "# print(\"Company B: Observed = 1, Predicted =\", model(torch.tensor([1., 0.5, 0.25, 1.])).detach())"
   ]
  },
  {
   "cell_type": "markdown",
   "metadata": {},
   "source": [
    "Company A prediction is close, however Company B prediction is horrible\n",
    "So let's get to work TRAININGGGGG"
   ]
  },
  {
   "cell_type": "code",
   "execution_count": 4,
   "metadata": {},
   "outputs": [
    {
     "name": "stderr",
     "output_type": "stream",
     "text": [
      "GPU available: False, used: False\n",
      "TPU available: False, using: 0 TPU cores\n",
      "HPU available: False, using: 0 HPUs\n",
      "\n",
      "  | Name         | Type | Params | Mode\n",
      "---------------------------------------------\n",
      "  | other params | n/a  | 12     | n/a \n",
      "---------------------------------------------\n",
      "12        Trainable params\n",
      "0         Non-trainable params\n",
      "12        Total params\n",
      "0.000     Total estimated model params size (MB)\n",
      "0         Modules in train mode\n",
      "0         Modules in eval mode\n",
      "c:\\Users\\11ukn\\AppData\\Local\\Programs\\Python\\Python310\\lib\\site-packages\\lightning\\pytorch\\trainer\\connectors\\data_connector.py:425: The 'train_dataloader' does not have many workers which may be a bottleneck. Consider increasing the value of the `num_workers` argument` to `num_workers=7` in the `DataLoader` to improve performance.\n",
      "c:\\Users\\11ukn\\AppData\\Local\\Programs\\Python\\Python310\\lib\\site-packages\\lightning\\pytorch\\loops\\fit_loop.py:310: The number of training batches (2) is smaller than the logging interval Trainer(log_every_n_steps=50). Set a lower value for log_every_n_steps if you want to see logs for the training epoch.\n"
     ]
    },
    {
     "name": "stdout",
     "output_type": "stream",
     "text": [
      "Epoch 1999: 100%|██████████| 2/2 [00:00<00:00, 83.31it/s, v_num=2] "
     ]
    },
    {
     "name": "stderr",
     "output_type": "stream",
     "text": [
      "`Trainer.fit` stopped: `max_epochs=2000` reached.\n"
     ]
    },
    {
     "name": "stdout",
     "output_type": "stream",
     "text": [
      "Epoch 1999: 100%|██████████| 2/2 [00:00<00:00, 63.25it/s, v_num=2]\n"
     ]
    }
   ],
   "source": [
    "# Training the model boisssssssssss\n",
    "inputs = torch.tensor([[0., 0.5, 0.25, 1.], [1., 0.5, 0.25, 1.]])\n",
    "labels = torch.tensor([0., 1.])\n",
    "\n",
    "dataset = TensorDataset(inputs, labels)\n",
    "dataloader = DataLoader(dataset)\n",
    "\n",
    "trainer = L.Trainer(max_epochs = 2000)\n",
    "trainer.fit(model, train_dataloaders=dataloader)\n"
   ]
  },
  {
   "cell_type": "code",
   "execution_count": 5,
   "metadata": {},
   "outputs": [
    {
     "name": "stdout",
     "output_type": "stream",
     "text": [
      "Let's compare the observed and predicted values: \n",
      "Company A: Observed = 0, Predicted = 4.304886533645913e-05\n",
      "Company B: Observed = 1, Predicted = 0.9161689877510071\n"
     ]
    }
   ],
   "source": [
    "print(\"Let's compare the observed and predicted values: \")\n",
    "print(\"Company A: Observed = 0, Predicted =\", model(torch.tensor([[0., 0.5, 0.25, 1.]])).detach().item())\n",
    "print(\"Company B: Observed = 1, Predicted =\", model(torch.tensor([[1., 0.5, 0.25, 1.]])).detach().item())\n"
   ]
  },
  {
   "cell_type": "code",
   "execution_count": 6,
   "metadata": {},
   "outputs": [
    {
     "name": "stderr",
     "output_type": "stream",
     "text": [
      "GPU available: False, used: False\n",
      "TPU available: False, using: 0 TPU cores\n",
      "HPU available: False, using: 0 HPUs\n",
      "Restoring states from the checkpoint path at c:\\Users\\11ukn\\OneDrive\\Desktop\\Project ASUNA\\Projects (ML)\\Deep Learning - Duality\\lightning_logs\\version_2\\checkpoints\\epoch=1999-step=4000.ckpt\n",
      "c:\\Users\\11ukn\\AppData\\Local\\Programs\\Python\\Python310\\lib\\site-packages\\lightning\\pytorch\\callbacks\\model_checkpoint.py:362: The dirpath has changed from 'c:\\\\Users\\\\11ukn\\\\OneDrive\\\\Desktop\\\\Project ASUNA\\\\Projects (ML)\\\\Deep Learning - Duality\\\\lightning_logs\\\\version_2\\\\checkpoints' to 'c:\\\\Users\\\\11ukn\\\\OneDrive\\\\Desktop\\\\Project ASUNA\\\\Projects (ML)\\\\Deep Learning - Duality\\\\lightning_logs\\\\version_3\\\\checkpoints', therefore `best_model_score`, `kth_best_model_path`, `kth_value`, `last_model_path` and `best_k_models` won't be reloaded. Only `best_model_path` will be reloaded.\n",
      "\n",
      "  | Name         | Type | Params | Mode\n",
      "---------------------------------------------\n",
      "  | other params | n/a  | 12     | n/a \n",
      "---------------------------------------------\n",
      "12        Trainable params\n",
      "0         Non-trainable params\n",
      "12        Total params\n",
      "0.000     Total estimated model params size (MB)\n",
      "0         Modules in train mode\n",
      "0         Modules in eval mode\n",
      "Restored all states from the checkpoint at c:\\Users\\11ukn\\OneDrive\\Desktop\\Project ASUNA\\Projects (ML)\\Deep Learning - Duality\\lightning_logs\\version_2\\checkpoints\\epoch=1999-step=4000.ckpt\n",
      "c:\\Users\\11ukn\\AppData\\Local\\Programs\\Python\\Python310\\lib\\site-packages\\lightning\\pytorch\\trainer\\connectors\\data_connector.py:425: The 'train_dataloader' does not have many workers which may be a bottleneck. Consider increasing the value of the `num_workers` argument` to `num_workers=7` in the `DataLoader` to improve performance.\n",
      "c:\\Users\\11ukn\\AppData\\Local\\Programs\\Python\\Python310\\lib\\site-packages\\lightning\\pytorch\\loops\\fit_loop.py:310: The number of training batches (2) is smaller than the logging interval Trainer(log_every_n_steps=50). Set a lower value for log_every_n_steps if you want to see logs for the training epoch.\n"
     ]
    },
    {
     "name": "stdout",
     "output_type": "stream",
     "text": [
      "Epoch 2999: 100%|██████████| 2/2 [00:00<00:00, 59.45it/s, v_num=3] "
     ]
    },
    {
     "name": "stderr",
     "output_type": "stream",
     "text": [
      "`Trainer.fit` stopped: `max_epochs=3000` reached.\n"
     ]
    },
    {
     "name": "stdout",
     "output_type": "stream",
     "text": [
      "Epoch 2999: 100%|██████████| 2/2 [00:00<00:00, 45.93it/s, v_num=3]\n"
     ]
    }
   ],
   "source": [
    "# Let's do even more training\n",
    "# One of the things about lightning is that it saves the number of epochs so that we won't have to train the model again from starting\n",
    "\n",
    "path_to_best_checkpoint = trainer.checkpoint_callback.best_model_path\n",
    "trainer = L.Trainer(max_epochs=3000)\n",
    "# will make the model start from epoch = 2000\n",
    "trainer.fit(model, train_dataloaders=dataloader, ckpt_path=path_to_best_checkpoint)"
   ]
  },
  {
   "cell_type": "code",
   "execution_count": 7,
   "metadata": {},
   "outputs": [
    {
     "name": "stdout",
     "output_type": "stream",
     "text": [
      "Let's compare the observed and predicted values: \n",
      "Company A: Observed = 0, Predicted = -0.0007492341683246195\n",
      "Company B: Observed = 1, Predicted = 0.9572266936302185\n"
     ]
    }
   ],
   "source": [
    "print(\"Let's compare the observed and predicted values: \")\n",
    "print(\"Company A: Observed = 0, Predicted =\", model(torch.tensor([[0., 0.5, 0.25, 1.]])).detach().item())\n",
    "print(\"Company B: Observed = 1, Predicted =\", model(torch.tensor([[1., 0.5, 0.25, 1.]])).detach().item())"
   ]
  },
  {
   "cell_type": "code",
   "execution_count": 8,
   "metadata": {},
   "outputs": [
    {
     "name": "stderr",
     "output_type": "stream",
     "text": [
      "GPU available: False, used: False\n",
      "TPU available: False, using: 0 TPU cores\n",
      "HPU available: False, using: 0 HPUs\n",
      "Restoring states from the checkpoint path at c:\\Users\\11ukn\\OneDrive\\Desktop\\Project ASUNA\\Projects (ML)\\Deep Learning - Duality\\lightning_logs\\version_3\\checkpoints\\epoch=2999-step=6000.ckpt\n",
      "c:\\Users\\11ukn\\AppData\\Local\\Programs\\Python\\Python310\\lib\\site-packages\\lightning\\pytorch\\callbacks\\model_checkpoint.py:362: The dirpath has changed from 'c:\\\\Users\\\\11ukn\\\\OneDrive\\\\Desktop\\\\Project ASUNA\\\\Projects (ML)\\\\Deep Learning - Duality\\\\lightning_logs\\\\version_3\\\\checkpoints' to 'c:\\\\Users\\\\11ukn\\\\OneDrive\\\\Desktop\\\\Project ASUNA\\\\Projects (ML)\\\\Deep Learning - Duality\\\\lightning_logs\\\\version_4\\\\checkpoints', therefore `best_model_score`, `kth_best_model_path`, `kth_value`, `last_model_path` and `best_k_models` won't be reloaded. Only `best_model_path` will be reloaded.\n",
      "\n",
      "  | Name         | Type | Params | Mode\n",
      "---------------------------------------------\n",
      "  | other params | n/a  | 12     | n/a \n",
      "---------------------------------------------\n",
      "12        Trainable params\n",
      "0         Non-trainable params\n",
      "12        Total params\n",
      "0.000     Total estimated model params size (MB)\n",
      "0         Modules in train mode\n",
      "0         Modules in eval mode\n",
      "Restored all states from the checkpoint at c:\\Users\\11ukn\\OneDrive\\Desktop\\Project ASUNA\\Projects (ML)\\Deep Learning - Duality\\lightning_logs\\version_3\\checkpoints\\epoch=2999-step=6000.ckpt\n"
     ]
    },
    {
     "name": "stdout",
     "output_type": "stream",
     "text": [
      "Epoch 4999: 100%|██████████| 2/2 [00:00<00:00, 78.38it/s, v_num=4] "
     ]
    },
    {
     "name": "stderr",
     "output_type": "stream",
     "text": [
      "`Trainer.fit` stopped: `max_epochs=5000` reached.\n"
     ]
    },
    {
     "name": "stdout",
     "output_type": "stream",
     "text": [
      "Epoch 4999: 100%|██████████| 2/2 [00:00<00:00, 56.50it/s, v_num=4]\n"
     ]
    }
   ],
   "source": [
    "path_to_best_checkpoint = trainer.checkpoint_callback.best_model_path\n",
    "trainer = L.Trainer(max_epochs=5000)\n",
    "# will make the model start from epoch = 3000\n",
    "trainer.fit(model, train_dataloaders=dataloader, ckpt_path=path_to_best_checkpoint)"
   ]
  },
  {
   "cell_type": "code",
   "execution_count": 9,
   "metadata": {},
   "outputs": [
    {
     "name": "stdout",
     "output_type": "stream",
     "text": [
      "Let's compare the observed and predicted values: \n",
      "Company A: Observed = 0, Predicted = 2.3432488887920044e-05\n",
      "Company B: Observed = 1, Predicted = 0.984913170337677\n"
     ]
    }
   ],
   "source": [
    "print(\"Let's compare the observed and predicted values: \")\n",
    "print(\"Company A: Observed = 0, Predicted =\", model(torch.tensor([[0., 0.5, 0.25, 1.]])).detach().item())\n",
    "print(\"Company B: Observed = 1, Predicted =\", model(torch.tensor([[1., 0.5, 0.25, 1.]])).detach().item())"
   ]
  },
  {
   "cell_type": "code",
   "execution_count": null,
   "metadata": {},
   "outputs": [],
   "source": []
  }
 ],
 "metadata": {
  "kernelspec": {
   "display_name": "Python 3",
   "language": "python",
   "name": "python3"
  },
  "language_info": {
   "codemirror_mode": {
    "name": "ipython",
    "version": 3
   },
   "file_extension": ".py",
   "mimetype": "text/x-python",
   "name": "python",
   "nbconvert_exporter": "python",
   "pygments_lexer": "ipython3",
   "version": "3.10.0"
  }
 },
 "nbformat": 4,
 "nbformat_minor": 2
}
