{
 "cells": [
  {
   "cell_type": "code",
   "execution_count": 1,
   "metadata": {},
   "outputs": [],
   "source": [
    "import torch\n",
    "import torch.nn as nn\n",
    "\n",
    "from torch.optim import Adam\n",
    "from torch.distributions.uniform import Uniform\n",
    "from torch.utils.data import TensorDataset, DataLoader\n",
    "\n",
    "import lightning as L\n",
    "\n",
    "import pandas as pd\n",
    "import matplotlib.pyplot as plt\n",
    "import seaborn as sns"
   ]
  },
  {
   "cell_type": "code",
   "execution_count": null,
   "metadata": {},
   "outputs": [],
   "source": [
    "# Troll 2 is great.\n",
    "# Gymkata is great.\n",
    "\n",
    "#    1   ,  0,   0  ,   0\n",
    "# Troll 2, is, great, Gymkata\n",
    "\n",
    "inputs = torch.tensor([\n",
    "    [1.0, 0.0, 0.0, 0.0],\n",
    "    [0.0, 1.0, 0.0, 0.0],\n",
    "    [0.0, 0.0, 1.0, 0.0],\n",
    "    [0.0, 0.0, 0.0, 1.0],\n",
    "])\n",
    "labels = torch.tensor([\n",
    "    [0.0, 1.0, 0.0, 0.0],\n",
    "    [0.0, 0.0, 1.0, 0.0],\n",
    "    [0.0, 0.0, 0.0, 1.0],\n",
    "    [0.0, 1.0, 0.0, 0.0],\n",
    "])\n",
    "\n",
    "dataset = TensorDataset(inputs, labels)\n",
    "dataloader = DataLoader(dataset)"
   ]
  },
  {
   "cell_type": "code",
   "execution_count": null,
   "metadata": {},
   "outputs": [],
   "source": [
    "class WordEmbeddingFromScratch(L.LightningModule):\n",
    "    def __init__(self):\n",
    "        super().__init__()\n",
    "\n",
    "        min_value = -0.5\n",
    "        max_value = 0.5\n",
    "\n",
    "        self.input1_w1 = nn.Parameter(Uniform(min_value, max_value).sample())\n",
    "        self.input1_w2 = nn.Parameter(Uniform(min_value, max_value).sample())\n",
    "\n",
    "        self.input2_w1 = nn.Parameter(Uniform(min_value, max_value).sample())\n",
    "        self.input2_w2 = nn.Parameter(Uniform(min_value, max_value).sample())\n",
    "\n",
    "        self.input3_w1 = nn.Parameter(Uniform(min_value, max_value).sample())\n",
    "        self.input3_w2 = nn.Parameter(Uniform(min_value, max_value).sample())\n",
    "\n",
    "        self.input4_w1 = nn.Parameter(Uniform(min_value, max_value).sample())\n",
    "        self.input4_w2 = nn.Parameter(Uniform(min_value, max_value).sample())\n",
    "\n",
    "        self.output1_w1 = nn.Parameter(Uniform(min_value, max_value).sample())\n",
    "        self.output1_w2 = nn.Parameter(Uniform(min_value, max_value).sample())\n",
    "\n",
    "        self.output2_w1 = nn.Parameter(Uniform(min_value, max_value).sample())\n",
    "        self.output2_w2 = nn.Parameter(Uniform(min_value, max_value).sample())\n",
    "\n",
    "        self.output3_w1 = nn.Parameter(Uniform(min_value, max_value).sample())\n",
    "        self.output3_w2 = nn.Parameter(Uniform(min_value, max_value).sample())\n",
    "\n",
    "        self.output4_w1 = nn.Parameter(Uniform(min_value, max_value).sample())\n",
    "        self.output4_w2 = nn.Parameter(Uniform(min_value, max_value).sample())\n",
    "\n",
    "        self.loss = nn.CrossEntropyLoss()\n",
    "\n",
    "    def forward(self, input):\n",
    "        input = input[0]\n",
    "\n",
    "        input_to_top_hidden = (\n",
    "            (input[0] * self.input1_w1) + \n",
    "            (input[1] * self.input2_w1) + \n",
    "            (input[2] * self.input3_w1) + \n",
    "            (input[3] * self.input4_w1)\n",
    "        )\n",
    "        input_to_bottom_hidden = (\n",
    "            (input[0] * self.input1_w2) + \n",
    "            (input[1] * self.input2_w2) + \n",
    "            (input[2] * self.input3_w2) + \n",
    "            (input[3] * self.input4_w2)\n",
    "        )\n",
    "\n",
    "        output1 = ((input_to_top_hidden * self.output1_w1) + (input_to_bottom_hidden * self.output1_w2))\n",
    "        output2 = ((input_to_top_hidden * self.output2_w1) + (input_to_bottom_hidden * self.output2_w2))\n",
    "        output3 = ((input_to_top_hidden * self.output3_w1) + (input_to_bottom_hidden * self.output3_w2))\n",
    "        output4 = ((input_to_top_hidden * self.output4_w1) + (input_to_bottom_hidden * self.output4_w2))\n",
    "\n",
    "        output_pre_softmax = torch.stack([output1, output2, output3, output4])\n",
    "        return output_pre_softmax\n",
    "\n",
    "    def configure_optimizers(self):\n",
    "        return Adam(self.parameters(), lr=0.1)\n",
    "    \n",
    "    def training_step(self, batch, batch_idx):\n",
    "        input_i, label_i = batch\n",
    "        output_i = self.forward(input_i)\n",
    "        loss = self.loss(output_i, label_i[0])\n",
    "        return loss"
   ]
  },
  {
   "cell_type": "code",
   "execution_count": 26,
   "metadata": {},
   "outputs": [
    {
     "name": "stdout",
     "output_type": "stream",
     "text": [
      "Before optimizing, Parametesrs: \n",
      "input1_w1 tensor(0.2108)\n",
      "input1_w2 tensor(0.4891)\n",
      "input2_w1 tensor(-0.2470)\n",
      "input2_w2 tensor(-0.2718)\n",
      "input3_w1 tensor(0.2381)\n",
      "input3_w2 tensor(-0.1433)\n",
      "input4_w1 tensor(0.2484)\n",
      "input4_w2 tensor(0.4647)\n",
      "output1_w1 tensor(-0.4579)\n",
      "output1_w2 tensor(-0.1395)\n",
      "output2_w1 tensor(0.3309)\n",
      "output2_w2 tensor(-0.4670)\n",
      "output3_w1 tensor(0.4391)\n",
      "output3_w2 tensor(0.3743)\n",
      "output4_w1 tensor(0.2935)\n",
      "output4_w2 tensor(0.1581)\n"
     ]
    }
   ],
   "source": [
    "model = WordEmbeddingFromScratch()\n",
    "print(\"Before optimizing, Parametesrs: \")\n",
    "for name, param in model.named_parameters():\n",
    "    print(name, param.data)\n",
    "    "
   ]
  },
  {
   "cell_type": "code",
   "execution_count": 27,
   "metadata": {},
   "outputs": [
    {
     "data": {
      "text/html": [
       "<div>\n",
       "<style scoped>\n",
       "    .dataframe tbody tr th:only-of-type {\n",
       "        vertical-align: middle;\n",
       "    }\n",
       "\n",
       "    .dataframe tbody tr th {\n",
       "        vertical-align: top;\n",
       "    }\n",
       "\n",
       "    .dataframe thead th {\n",
       "        text-align: right;\n",
       "    }\n",
       "</style>\n",
       "<table border=\"1\" class=\"dataframe\">\n",
       "  <thead>\n",
       "    <tr style=\"text-align: right;\">\n",
       "      <th></th>\n",
       "      <th>w1</th>\n",
       "      <th>w2</th>\n",
       "      <th>token</th>\n",
       "      <th>input</th>\n",
       "    </tr>\n",
       "  </thead>\n",
       "  <tbody>\n",
       "    <tr>\n",
       "      <th>0</th>\n",
       "      <td>0.210836</td>\n",
       "      <td>0.489101</td>\n",
       "      <td>Troll 2</td>\n",
       "      <td>input1</td>\n",
       "    </tr>\n",
       "    <tr>\n",
       "      <th>1</th>\n",
       "      <td>-0.246999</td>\n",
       "      <td>-0.271806</td>\n",
       "      <td>is</td>\n",
       "      <td>input2</td>\n",
       "    </tr>\n",
       "    <tr>\n",
       "      <th>2</th>\n",
       "      <td>0.238071</td>\n",
       "      <td>-0.143343</td>\n",
       "      <td>great</td>\n",
       "      <td>input3</td>\n",
       "    </tr>\n",
       "    <tr>\n",
       "      <th>3</th>\n",
       "      <td>0.248366</td>\n",
       "      <td>0.464690</td>\n",
       "      <td>Gymkata</td>\n",
       "      <td>input4</td>\n",
       "    </tr>\n",
       "  </tbody>\n",
       "</table>\n",
       "</div>"
      ],
      "text/plain": [
       "         w1        w2    token   input\n",
       "0  0.210836  0.489101  Troll 2  input1\n",
       "1 -0.246999 -0.271806       is  input2\n",
       "2  0.238071 -0.143343    great  input3\n",
       "3  0.248366  0.464690  Gymkata  input4"
      ]
     },
     "execution_count": 27,
     "metadata": {},
     "output_type": "execute_result"
    }
   ],
   "source": [
    "data = {\n",
    "    \"w1\" : [\n",
    "        model.input1_w1.item(),\n",
    "        model.input2_w1.item(),\n",
    "        model.input3_w1.item(),\n",
    "        model.input4_w1.item(),\n",
    "        ],\n",
    "    \"w2\" : [\n",
    "        model.input1_w2.item(),\n",
    "        model.input2_w2.item(),\n",
    "        model.input3_w2.item(),\n",
    "        model.input4_w2.item(),\n",
    "        ],\n",
    "    \"token\": ['Troll 2', 'is', 'great', 'Gymkata'],\n",
    "    \"input\": ['input1', 'input2', 'input3', 'input4'],\n",
    "\n",
    "}\n",
    "df = pd.DataFrame(data)\n",
    "df"
   ]
  },
  {
   "cell_type": "code",
   "execution_count": 28,
   "metadata": {},
   "outputs": [
    {
     "data": {
      "image/png": "[encoded data removed]",
      "text/plain": [
       "<Figure size 640x480 with 1 Axes>"
      ]
     },
     "metadata": {},
     "output_type": "display_data"
    }
   ],
   "source": [
    "# let's see the difference in values through a scatterplot\n",
    "sns.scatterplot(data=df, x='w1', y='w2')\n",
    "for i in range(4):\n",
    "    plt.text(df.w1[i], df.w2[i], df.token[i], verticalalignment='bottom', size='medium', color='black')"
   ]
  },
  {
   "cell_type": "code",
   "execution_count": 29,
   "metadata": {},
   "outputs": [
    {
     "name": "stderr",
     "output_type": "stream",
     "text": [
      "GPU available: False, used: False\n",
      "TPU available: False, using: 0 TPU cores\n",
      "HPU available: False, using: 0 HPUs\n"
     ]
    },
    {
     "name": "stderr",
     "output_type": "stream",
     "text": [
      "\n",
      "  | Name         | Type             | Params | Mode \n",
      "----------------------------------------------------------\n",
      "0 | loss         | CrossEntropyLoss | 0      | train\n",
      "  | other params | n/a              | 16     | n/a  \n",
      "----------------------------------------------------------\n",
      "16        Trainable params\n",
      "0         Non-trainable params\n",
      "16        Total params\n",
      "0.000     Total estimated model params size (MB)\n",
      "1         Modules in train mode\n",
      "0         Modules in eval mode\n",
      "c:\\Users\\11ukn\\AppData\\Local\\Programs\\Python\\Python310\\lib\\site-packages\\lightning\\pytorch\\trainer\\connectors\\data_connector.py:425: The 'train_dataloader' does not have many workers which may be a bottleneck. Consider increasing the value of the `num_workers` argument` to `num_workers=7` in the `DataLoader` to improve performance.\n",
      "c:\\Users\\11ukn\\AppData\\Local\\Programs\\Python\\Python310\\lib\\site-packages\\lightning\\pytorch\\loops\\fit_loop.py:310: The number of training batches (4) is smaller than the logging interval Trainer(log_every_n_steps=50). Set a lower value for log_every_n_steps if you want to see logs for the training epoch.\n"
     ]
    },
    {
     "name": "stdout",
     "output_type": "stream",
     "text": [
      "Epoch 299: 100%|██████████| 4/4 [00:00<00:00, 172.51it/s, v_num=0]"
     ]
    },
    {
     "name": "stderr",
     "output_type": "stream",
     "text": [
      "`Trainer.fit` stopped: `max_epochs=300` reached.\n"
     ]
    },
    {
     "name": "stdout",
     "output_type": "stream",
     "text": [
      "Epoch 299: 100%|██████████| 4/4 [00:00<00:00, 120.86it/s, v_num=0]\n"
     ]
    }
   ],
   "source": [
    "trainer = L.Trainer(max_epochs=300)\n",
    "trainer.fit(model, train_dataloaders=dataloader)"
   ]
  },
  {
   "cell_type": "code",
   "execution_count": null,
   "metadata": {},
   "outputs": [
    {
     "data": {
      "image/png": "[encoded data removed]",
      "text/plain": [
       "<Figure size 640x480 with 1 Axes>"
      ]
     },
     "metadata": {},
     "output_type": "display_data"
    }
   ],
   "source": [
    "data = {\n",
    "    \"w1\" : [\n",
    "        model.input1_w1.item(),\n",
    "        model.input2_w1.item(),\n",
    "        model.input3_w1.item(),\n",
    "        model.input4_w1.item(),\n",
    "        ],\n",
    "    \"w2\" : [\n",
    "        model.input1_w2.item(),\n",
    "        model.input2_w2.item(),\n",
    "        model.input3_w2.item(),\n",
    "        model.input4_w2.item(),\n",
    "        ],\n",
    "    \"token\": ['Troll 2', 'is', 'great', 'Gymkata'],\n",
    "    \"input\": ['input1', 'input2', 'input3', 'input4']\n",
    "}\n",
    "df = pd.DataFrame(data)\n",
    "df\n",
    "\n",
    "# let's see the difference in values through a scatterplot\n",
    "sns.scatterplot(data=df, x='w1', y='w2')\n",
    "for i in range(4):\n",
    "    plt.text(df.w1[i] + 0.1, df.w2[i] - 0.1, df.token[i], verticalalignment='bottom', size='medium', color='black', weight='semibold')"
   ]
  },
  {
   "cell_type": "code",
   "execution_count": 40,
   "metadata": {},
   "outputs": [
    {
     "name": "stdout",
     "output_type": "stream",
     "text": [
      "tensor([0., 1., 0., 0.], grad_fn=<RoundBackward1>)\n"
     ]
    }
   ],
   "source": [
    "softmax = nn.Softmax(dim=0)\n",
    "print(torch.round(softmax(model(torch.tensor([[0., 0., 0., 1.]]))),decimals=2))"
   ]
  },
  {
   "cell_type": "code",
   "execution_count": 58,
   "metadata": {},
   "outputs": [],
   "source": [
    "class WordEmbeddingAdv(L.LightningModule):\n",
    "    def __init__(self):\n",
    "        super().__init__()\n",
    "\n",
    "        self.input_to_hidden = nn.Linear(in_features=4, out_features=2, bias=False)\n",
    "        self.hidden_to_output = nn.Linear(in_features=2, out_features=4, bias=False)\n",
    "        self.loss = nn.CrossEntropyLoss()\n",
    "\n",
    "    def forward(self, input):\n",
    "        hidden = self.input_to_hidden(input)\n",
    "        output_values = self.hidden_to_output(hidden)\n",
    "        return output_values\n",
    "\n",
    "    def configure_optimizers(self):\n",
    "        return Adam(self.parameters(), lr=0.1)\n",
    "    \n",
    "    def training_step(self, batch, batch_idx):\n",
    "        input_i, label_i = batch\n",
    "        output_i = self.forward(input_i)\n",
    "        loss = self.loss(output_i, label_i)\n",
    "        return loss"
   ]
  },
  {
   "cell_type": "code",
   "execution_count": 59,
   "metadata": {},
   "outputs": [],
   "source": [
    "modelLinear = WordEmbeddingAdv()\n",
    "data = {\n",
    "    'w1': modelLinear.input_to_hidden.weight.detach()[0].numpy(),\n",
    "    'w2': modelLinear.input_to_hidden.weight.detach()[1].numpy(),\n",
    "    \"token\": ['Troll 2', 'is', 'great', 'Gymkata'],\n",
    "    \"input\": ['input1', 'input2', 'input3', 'input4']\n",
    "}\n",
    "df = pd.DataFrame(data)"
   ]
  },
  {
   "cell_type": "code",
   "execution_count": 60,
   "metadata": {},
   "outputs": [
    {
     "data": {
      "text/html": [
       "<div>\n",
       "<style scoped>\n",
       "    .dataframe tbody tr th:only-of-type {\n",
       "        vertical-align: middle;\n",
       "    }\n",
       "\n",
       "    .dataframe tbody tr th {\n",
       "        vertical-align: top;\n",
       "    }\n",
       "\n",
       "    .dataframe thead th {\n",
       "        text-align: right;\n",
       "    }\n",
       "</style>\n",
       "<table border=\"1\" class=\"dataframe\">\n",
       "  <thead>\n",
       "    <tr style=\"text-align: right;\">\n",
       "      <th></th>\n",
       "      <th>w1</th>\n",
       "      <th>w2</th>\n",
       "      <th>token</th>\n",
       "      <th>input</th>\n",
       "    </tr>\n",
       "  </thead>\n",
       "  <tbody>\n",
       "    <tr>\n",
       "      <th>0</th>\n",
       "      <td>-0.344698</td>\n",
       "      <td>0.269829</td>\n",
       "      <td>Troll 2</td>\n",
       "      <td>input1</td>\n",
       "    </tr>\n",
       "    <tr>\n",
       "      <th>1</th>\n",
       "      <td>-0.253176</td>\n",
       "      <td>0.306896</td>\n",
       "      <td>is</td>\n",
       "      <td>input2</td>\n",
       "    </tr>\n",
       "    <tr>\n",
       "      <th>2</th>\n",
       "      <td>-0.460009</td>\n",
       "      <td>-0.135500</td>\n",
       "      <td>great</td>\n",
       "      <td>input3</td>\n",
       "    </tr>\n",
       "    <tr>\n",
       "      <th>3</th>\n",
       "      <td>0.160369</td>\n",
       "      <td>0.395153</td>\n",
       "      <td>Gymkata</td>\n",
       "      <td>input4</td>\n",
       "    </tr>\n",
       "  </tbody>\n",
       "</table>\n",
       "</div>"
      ],
      "text/plain": [
       "         w1        w2    token   input\n",
       "0 -0.344698  0.269829  Troll 2  input1\n",
       "1 -0.253176  0.306896       is  input2\n",
       "2 -0.460009 -0.135500    great  input3\n",
       "3  0.160369  0.395153  Gymkata  input4"
      ]
     },
     "execution_count": 60,
     "metadata": {},
     "output_type": "execute_result"
    }
   ],
   "source": [
    "df"
   ]
  },
  {
   "cell_type": "code",
   "execution_count": null,
   "metadata": {},
   "outputs": [
    {
     "data": {
      "image/png": "[encoded data removed]",
      "text/plain": [
       "<Figure size 640x480 with 1 Axes>"
      ]
     },
     "metadata": {},
     "output_type": "display_data"
    }
   ],
   "source": [
    "sns.scatterplot(data=df, x='w1', y='w2')\n",
    "for i in range(4):\n",
    "    plt.text(df.w1[i], df.w2[i], df.token[i], verticalalignment='bottom', size='medium', color='black', weight='semibold')      "
   ]
  },
  {
   "cell_type": "code",
   "execution_count": 62,
   "metadata": {},
   "outputs": [
    {
     "name": "stderr",
     "output_type": "stream",
     "text": [
      "GPU available: False, used: False\n",
      "TPU available: False, using: 0 TPU cores\n",
      "HPU available: False, using: 0 HPUs\n",
      "\n",
      "  | Name             | Type             | Params | Mode \n",
      "--------------------------------------------------------------\n",
      "0 | input_to_hidden  | Linear           | 8      | train\n",
      "1 | hidden_to_output | Linear           | 8      | train\n",
      "2 | loss             | CrossEntropyLoss | 0      | train\n",
      "--------------------------------------------------------------\n",
      "16        Trainable params\n",
      "0         Non-trainable params\n",
      "16        Total params\n",
      "0.000     Total estimated model params size (MB)\n",
      "3         Modules in train mode\n",
      "0         Modules in eval mode\n",
      "c:\\Users\\11ukn\\AppData\\Local\\Programs\\Python\\Python310\\lib\\site-packages\\lightning\\pytorch\\trainer\\connectors\\data_connector.py:425: The 'train_dataloader' does not have many workers which may be a bottleneck. Consider increasing the value of the `num_workers` argument` to `num_workers=7` in the `DataLoader` to improve performance.\n",
      "c:\\Users\\11ukn\\AppData\\Local\\Programs\\Python\\Python310\\lib\\site-packages\\lightning\\pytorch\\loops\\fit_loop.py:310: The number of training batches (4) is smaller than the logging interval Trainer(log_every_n_steps=50). Set a lower value for log_every_n_steps if you want to see logs for the training epoch.\n"
     ]
    },
    {
     "name": "stdout",
     "output_type": "stream",
     "text": [
      "Epoch 2:  25%|██▌       | 1/4 [00:00<00:00, 96.81it/s, v_num=4] "
     ]
    },
    {
     "name": "stdout",
     "output_type": "stream",
     "text": [
      "Epoch 149: 100%|██████████| 4/4 [00:00<00:00, 125.85it/s, v_num=4]"
     ]
    },
    {
     "name": "stderr",
     "output_type": "stream",
     "text": [
      "`Trainer.fit` stopped: `max_epochs=150` reached.\n"
     ]
    },
    {
     "name": "stdout",
     "output_type": "stream",
     "text": [
      "Epoch 149: 100%|██████████| 4/4 [00:00<00:00, 119.80it/s, v_num=4]\n"
     ]
    }
   ],
   "source": [
    "trainer = L.Trainer(max_epochs=150)\n",
    "trainer.fit(modelLinear, train_dataloaders=dataloader)"
   ]
  },
  {
   "cell_type": "code",
   "execution_count": 63,
   "metadata": {},
   "outputs": [
    {
     "data": {
      "image/png": "[encoded data removed]",
      "text/plain": [
       "<Figure size 640x480 with 1 Axes>"
      ]
     },
     "metadata": {},
     "output_type": "display_data"
    }
   ],
   "source": [
    "data = {\n",
    "    'w1': modelLinear.input_to_hidden.weight.detach()[0].numpy(),\n",
    "    'w2': modelLinear.input_to_hidden.weight.detach()[1].numpy(),\n",
    "    \"token\": ['Troll 2', 'is', 'great', 'Gymkata'],\n",
    "    \"input\": ['input1', 'input2', 'input3', 'input4']\n",
    "}\n",
    "df = pd.DataFrame(data)\n",
    "\n",
    "sns.scatterplot(data=df, x='w1', y='w2')\n",
    "for i in range(4):\n",
    "    plt.text(df.w1[i], df.w2[i], df.token[i], verticalalignment='bottom', size='medium', color='black', weight='semibold')"
   ]
  },
  {
   "cell_type": "code",
   "execution_count": null,
   "metadata": {},
   "outputs": [],
   "source": []
  }
 ],
 "metadata": {
  "kernelspec": {
   "display_name": "Python 3",
   "language": "python",
   "name": "python3"
  },
  "language_info": {
   "codemirror_mode": {
    "name": "ipython",
    "version": 3
   },
   "file_extension": ".py",
   "mimetype": "text/x-python",
   "name": "python",
   "nbconvert_exporter": "python",
   "pygments_lexer": "ipython3",
   "version": "3.10.0"
  }
 },
 "nbformat": 4,
 "nbformat_minor": 2
}
