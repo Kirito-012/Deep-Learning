{
 "cells": [
  {
   "cell_type": "markdown",
   "metadata": {},
   "source": [
    "### Long Short Term Memory\n",
    "Using LSTM, predicting Company A, B stock prices on 5th day"
   ]
  },
  {
   "cell_type": "code",
   "execution_count": 1,
   "metadata": {},
   "outputs": [],
   "source": [
    "import torch\n",
    "import torch.nn as nn\n",
    "import torch.nn.functional as F\n",
    "from torch.optim import Adam\n",
    "\n",
    "import lightning as L\n",
    "from torch.utils.data import DataLoader, TensorDataset"
   ]
  },
  {
   "cell_type": "code",
   "execution_count": null,
   "metadata": {},
   "outputs": [],
   "source": [
    "class LightningLTSM(L.LightningModule):\n",
    "    def __init__(self):\n",
    "        super().__init__()\n",
    "\n",
    "        # input size --> number of features/variables \n",
    "        # hidden size --> number of output values we want (prediction for day 5)\n",
    "        self.lstm = nn.LSTM(input_size=1, hidden_size=1)\n",
    "\n",
    "    def forward(self, input):\n",
    "        # for an LSTM expected input shape is (sequence_length, batch_size, input_size). However, input is originally (batch_size, sequence_length, input_size)\n",
    "        input_trans = input.transpose(0, 1)\n",
    "        # adding a dimension to match the 3 parameters criteria --> in this case, input_size = 1\n",
    "        input_trans = input_trans.unsqueeze(-1)\n",
    "        # lstm_out --> will contain each short term memory from each LSTM unit that we unrolled (in this case, it has 4 values) \n",
    "        lstm_out, temp = self.lstm(input_trans)\n",
    "        prediction = lstm_out[-1]\n",
    "        # to remove the dimensions of size 1 for cleaner outputs\n",
    "        return prediction.squeeze()\n",
    "    \n",
    "    def configure_optimizers(self):\n",
    "        return Adam(self.parameters(), lr=0.1)\n",
    "    \n",
    "    def training_step(self, batch, batch_idx):\n",
    "        input_i, label_i = batch\n",
    "        output_i = self.forward(input_i)\n",
    "        label_i = label_i.squeeze()\n",
    "        loss = F.mse_loss(output_i, label_i)\n",
    "        self.log('train_loss', loss)\n",
    "\n",
    "        if label_i.item() == 0:\n",
    "            self.log('out_0', output_i)\n",
    "        else:\n",
    "            self.log('out_1', output_i)\n",
    "            \n",
    "        return loss"
   ]
  },
  {
   "cell_type": "code",
   "execution_count": null,
   "metadata": {},
   "outputs": [],
   "source": [
    "(\n",
    "    [\n",
    "        [0., 0.5, 0.25, 1.]\n",
    "    ]\n",
    ")"
   ]
  },
  {
   "cell_type": "code",
   "execution_count": 3,
   "metadata": {},
   "outputs": [
    {
     "name": "stdout",
     "output_type": "stream",
     "text": [
      "Let's compare the observed and predicted values: \n",
      "Company A: Observed = 0, Predicted = -0.07628270238637924\n",
      "Company B: Observed = 1, Predicted = -0.08181475847959518\n"
     ]
    }
   ],
   "source": [
    "model = LightningLTSM()\n",
    "print(\"Let's compare the observed and predicted values: \")\n",
    "print(\"Company A: Observed = 0, Predicted =\", model(torch.tensor([[0., 0.5, 0.25, 1.]])).detach().item())\n",
    "print(\"Company B: Observed = 1, Predicted =\", model(torch.tensor([[1., 0.5, 0.25, 1.]])).detach().item())"
   ]
  },
  {
   "cell_type": "code",
   "execution_count": 7,
   "metadata": {},
   "outputs": [
    {
     "name": "stderr",
     "output_type": "stream",
     "text": [
      "GPU available: False, used: False\n",
      "TPU available: False, using: 0 TPU cores\n",
      "HPU available: False, using: 0 HPUs\n"
     ]
    },
    {
     "name": "stderr",
     "output_type": "stream",
     "text": [
      "\n",
      "  | Name | Type | Params | Mode \n",
      "--------------------------------------\n",
      "0 | lstm | LSTM | 16     | train\n",
      "--------------------------------------\n",
      "16        Trainable params\n",
      "0         Non-trainable params\n",
      "16        Total params\n",
      "0.000     Total estimated model params size (MB)\n",
      "1         Modules in train mode\n",
      "0         Modules in eval mode\n",
      "c:\\Users\\11ukn\\AppData\\Local\\Programs\\Python\\Python310\\lib\\site-packages\\lightning\\pytorch\\trainer\\connectors\\data_connector.py:425: The 'train_dataloader' does not have many workers which may be a bottleneck. Consider increasing the value of the `num_workers` argument` to `num_workers=7` in the `DataLoader` to improve performance.\n"
     ]
    },
    {
     "name": "stdout",
     "output_type": "stream",
     "text": [
      "Epoch 349: 100%|██████████| 2/2 [00:00<00:00, 156.73it/s, v_num=3]"
     ]
    },
    {
     "name": "stderr",
     "output_type": "stream",
     "text": [
      "`Trainer.fit` stopped: `max_epochs=350` reached.\n"
     ]
    },
    {
     "name": "stdout",
     "output_type": "stream",
     "text": [
      "Epoch 349: 100%|██████████| 2/2 [00:00<00:00, 86.96it/s, v_num=3] \n"
     ]
    }
   ],
   "source": [
    "model = LightningLTSM()\n",
    "inputs = torch.tensor([[0., 0.5, 0.25, 1.], [1., 0.5, 0.25, 1.]])\n",
    "labels = torch.tensor([0., 1.])\n",
    "\n",
    "dataset = TensorDataset(inputs, labels)\n",
    "dataloader = DataLoader(dataset)\n",
    "\n",
    "trainer = L.Trainer(max_epochs=350, log_every_n_steps=2)\n",
    "trainer.fit(model, train_dataloaders=dataloader)    "
   ]
  },
  {
   "cell_type": "code",
   "execution_count": 8,
   "metadata": {},
   "outputs": [
    {
     "name": "stdout",
     "output_type": "stream",
     "text": [
      "Let's compare the observed and predicted values: \n",
      "Company A: Observed = 0, Predicted = 0.0002\n",
      "Company B: Observed = 1, Predicted = 0.9932\n"
     ]
    }
   ],
   "source": [
    "print(\"Let's compare the observed and predicted values: \")\n",
    "print(\"Company A: Observed = 0, Predicted =\", abs(round(model(torch.tensor([[0., 0.5, 0.25, 1.]])).detach().item(), 4)))\n",
    "print(\"Company B: Observed = 1, Predicted =\", round(model(torch.tensor([[1., 0.5, 0.25, 1.]])).detach().item(), 4))\n"
   ]
  },
  {
   "cell_type": "code",
   "execution_count": null,
   "metadata": {},
   "outputs": [],
   "source": []
  }
 ],
 "metadata": {
  "kernelspec": {
   "display_name": "Python 3",
   "language": "python",
   "name": "python3"
  },
  "language_info": {
   "codemirror_mode": {
    "name": "ipython",
    "version": 3
   },
   "file_extension": ".py",
   "mimetype": "text/x-python",
   "name": "python",
   "nbconvert_exporter": "python",
   "pygments_lexer": "ipython3",
   "version": "3.10.0"
  }
 },
 "nbformat": 4,
 "nbformat_minor": 2
}
