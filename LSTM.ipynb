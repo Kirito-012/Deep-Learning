{
 "cells": [
  {
   "cell_type": "code",
   "execution_count": 1,
   "metadata": {},
   "outputs": [],
   "source": [
    "import torch\n",
    "import torch.nn as nn\n",
    "import torch.nn.functional as F\n",
    "from torch.optim import Adam\n",
    "\n",
    "import lightning as L\n",
    "from torch.utils.data import DataLoader, TensorDataset"
   ]
  },
  {
   "cell_type": "code",
   "execution_count": 5,
   "metadata": {},
   "outputs": [],
   "source": [
    "class LightningLTSM(L.LightningModule):\n",
    "    def __init__(self):\n",
    "        super().__init__()\n",
    "\n",
    "        # input size --> number of features/variables\n",
    "        # hidden size --> number of output values we want (prediction for day 5)\n",
    "        self.lstm = nn.LSTM(input_size=1, hidden_size=1)\n",
    "\n",
    "    def forward(self, input):\n",
    "        input_trans = input.transpose(0, 1)\n",
    "        input_trans = input_trans.unsqueeze(-1)\n",
    "        # lstm_out --> will contain each short term memory from each LSTM unit that we unrolled (in this case, it has 4 values) \n",
    "        lstm_out, temp = self.lstm(input_trans)\n",
    "        prediction = lstm_out[-1]\n",
    "        return prediction.squeeze()\n",
    "    \n",
    "    def configure_optimizers(self):\n",
    "        return Adam(self.parameters(), lr=0.1)\n",
    "    \n",
    "    def training_step(self, batch, batch_idx):\n",
    "        input_i, label_i = batch\n",
    "        output_i = self.forward(input_i)\n",
    "        loss = F.mse_loss(output_i, label_i)\n",
    "        self.log('train_loss', loss)\n",
    "\n",
    "        if label_i.item() == 0:\n",
    "            self.log('out_0', output_i)\n",
    "        else:\n",
    "            self.log('out_1', output_i)\n",
    "            \n",
    "        return loss"
   ]
  },
  {
   "cell_type": "code",
   "execution_count": 3,
   "metadata": {},
   "outputs": [
    {
     "name": "stdout",
     "output_type": "stream",
     "text": [
      "Let's compare the observed and predicted values: \n",
      "Company A: Observed = 0, Predicted = tensor([0.3900])\n",
      "Company B: Observed = 1, Predicted = tensor([0.3899])\n"
     ]
    }
   ],
   "source": [
    "model = LightningLTSM()\n",
    "print(\"Let's compare the observed and predicted values: \")\n",
    "print(\"Company A: Observed = 0, Predicted =\", model(torch.tensor([0., 0.5, 0.25, 1.])).detach())\n",
    "print(\"Company B: Observed = 1, Predicted =\", model(torch.tensor([1., 0.5, 0.25, 1.])).detach())"
   ]
  },
  {
   "cell_type": "code",
   "execution_count": 6,
   "metadata": {},
   "outputs": [
    {
     "name": "stderr",
     "output_type": "stream",
     "text": [
      "GPU available: False, used: False\n",
      "TPU available: False, using: 0 TPU cores\n",
      "HPU available: False, using: 0 HPUs\n",
      "\n",
      "  | Name | Type | Params | Mode \n",
      "--------------------------------------\n",
      "0 | lstm | LSTM | 16     | train\n",
      "--------------------------------------\n",
      "16        Trainable params\n",
      "0         Non-trainable params\n",
      "16        Total params\n",
      "0.000     Total estimated model params size (MB)\n",
      "1         Modules in train mode\n",
      "0         Modules in eval mode\n"
     ]
    },
    {
     "name": "stdout",
     "output_type": "stream",
     "text": [
      "Epoch 0:   0%|          | 0/2 [00:00<?, ?it/s] "
     ]
    },
    {
     "name": "stderr",
     "output_type": "stream",
     "text": [
      "C:\\Users\\11ukn\\AppData\\Local\\Temp\\ipykernel_19860\\3331443930.py:23: UserWarning: Using a target size (torch.Size([1])) that is different to the input size (torch.Size([])). This will likely lead to incorrect results due to broadcasting. Please ensure they have the same size.\n",
      "  loss = F.mse_loss(output_i, label_i)\n"
     ]
    },
    {
     "name": "stdout",
     "output_type": "stream",
     "text": [
      "Epoch 299: 100%|██████████| 2/2 [00:00<00:00, 104.55it/s, v_num=6]"
     ]
    },
    {
     "name": "stderr",
     "output_type": "stream",
     "text": [
      "`Trainer.fit` stopped: `max_epochs=300` reached.\n"
     ]
    },
    {
     "name": "stdout",
     "output_type": "stream",
     "text": [
      "Epoch 299: 100%|██████████| 2/2 [00:00<00:00, 71.05it/s, v_num=6] \n"
     ]
    }
   ],
   "source": [
    "model = LightningLTSM()\n",
    "inputs = torch.tensor([[0., 0.5, 0.25, 1.], [1., 0.5, 0.25, 1.]])\n",
    "labels = torch.tensor([0., 1.])\n",
    "\n",
    "dataset = TensorDataset(inputs, labels)\n",
    "dataloader = DataLoader(dataset)\n",
    "\n",
    "trainer = L.Trainer(max_epochs=300, log_every_n_steps=2)\n",
    "trainer.fit(model, train_dataloaders=dataloader)"
   ]
  },
  {
   "cell_type": "code",
   "execution_count": 7,
   "metadata": {},
   "outputs": [
    {
     "name": "stdout",
     "output_type": "stream",
     "text": [
      "Let's compare the observed and predicted values: \n",
      "Company A: Observed = 0, Predicted = 5.5710966989863664e-05\n",
      "Company B: Observed = 1, Predicted = 0.9801440238952637\n"
     ]
    }
   ],
   "source": [
    "print(\"Let's compare the observed and predicted values: \")\n",
    "print(\"Company A: Observed = 0, Predicted =\", model(torch.tensor([[0., 0.5, 0.25, 1.]])).detach().item())\n",
    "print(\"Company B: Observed = 1, Predicted =\", model(torch.tensor([[1., 0.5, 0.25, 1.]])).detach().item())\n"
   ]
  },
  {
   "cell_type": "code",
   "execution_count": null,
   "metadata": {},
   "outputs": [],
   "source": []
  }
 ],
 "metadata": {
  "kernelspec": {
   "display_name": "Python 3",
   "language": "python",
   "name": "python3"
  },
  "language_info": {
   "codemirror_mode": {
    "name": "ipython",
    "version": 3
   },
   "file_extension": ".py",
   "mimetype": "text/x-python",
   "name": "python",
   "nbconvert_exporter": "python",
   "pygments_lexer": "ipython3",
   "version": "3.10.0"
  }
 },
 "nbformat": 4,
 "nbformat_minor": 2
}
